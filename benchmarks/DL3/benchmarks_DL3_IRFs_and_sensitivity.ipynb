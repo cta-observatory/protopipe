{
 "cells": [
  {
   "cell_type": "markdown",
   "metadata": {},
   "source": [
    "# IRFs and sensitivity"
   ]
  },
  {
   "cell_type": "markdown",
   "metadata": {},
   "source": [
    "**WARNING**\n",
    "\n",
    "This is still a work-in-progress, it will evolve with the pipeline comparisons and converge with ctaplot+cta-benchmarks."
   ]
  },
  {
   "cell_type": "markdown",
   "metadata": {},
   "source": [
    "**Author(s):**\n",
    "    \n",
    "- Dr. Michele Peresano (CEA-Saclay/IRFU/DAp/LEPCHE), 2020\n",
    "based on previous work by J. Lefacheur.\n",
    "\n",
    "**Description:**\n",
    "\n",
    "This notebook contains DL3 and benchmarks for the _protopipe_ pipeline. \n",
    "\n",
    "Note that:\n",
    "    - a more general set of benchmarks is being defined in cta-benchmarks/ctaplot,\n",
    "    - follow [this](https://www.overleaf.com/16933164ghbhvjtchknf) document by adding new benchmarks or proposing new ones.\n",
    "\n",
    "**Requirements:**\n",
    "\n",
    "To run this notebook you will need a set of DL2 files produced on the grid with protopipe.\n",
    "The MC production to be used and the appropriate set of files to use for this notebook can be found [here](https://forge.in2p3.fr/projects/step-by-step-reference-mars-analysis/wiki#The-MC-sample ).\n",
    "\n",
    "The data format required to run the notebook is the current one used by _protopipe_ .\n",
    "Later on it will be the same as in _ctapipe_ + _pyirf_.\n",
    "\n",
    "**Development and testing:**  \n",
    "\n",
    "For the moment this notebook is optimized to work only on files produced from LSTCam + NectarCam telescope configurations.  \n",
    "As with any other part of _protopipe_ and being part of the official repository, this notebook can be further developed by any interested contributor.  \n",
    "The execution of this notebook is not currently automatic, it must be done locally by the user - preferably _before_ pushing a pull-request.  \n",
    "**IMPORTANT:** Please, if you wish to contribute to this notebook, before pushing anything to your branch (better even before opening the PR) clear all the output and remove any local directory paths that you used for testing (leave empty strings).\n",
    "\n",
    "**TODO:**  \n",
    "* update everything..."
   ]
  },
  {
   "cell_type": "markdown",
   "metadata": {},
   "source": [
    "## Imports"
   ]
  },
  {
   "cell_type": "code",
   "execution_count": null,
   "metadata": {},
   "outputs": [],
   "source": [
    "import os\n",
    "import matplotlib.pyplot as plt\n",
    "from matplotlib import gridspec\n",
    "import numpy as np\n",
    "import astropy.units as u\n",
    "from astropy.io import fits\n",
    "from astropy.table import Table, Column\n",
    "\n",
    "from gammapy.utils.energy import EnergyBounds\n",
    "from gammapy.irf import EffectiveAreaTable, EnergyDispersion2D \n",
    "\n",
    "from gammapy.spectrum import CrabSpectrum\n",
    "from gammapy.spectrum.models import PowerLaw"
   ]
  },
  {
   "cell_type": "markdown",
   "metadata": {},
   "source": [
    "# Functions"
   ]
  },
  {
   "cell_type": "code",
   "execution_count": null,
   "metadata": {},
   "outputs": [],
   "source": [
    "def get_performance(filename):\n",
    "    \"\"\"Load IRF, use Gammapy capabilities to handle the miragtion matrix\"\"\"\n",
    "    with fits.open(filename, memmap=False) as hdulist:\n",
    "        aeff = EffectiveAreaTable.from_hdulist(hdulist=hdulist).to_table()\n",
    "        bkg = Table.read(hdulist[\"BACKGROUND\"])\n",
    "        psf = Table.read(hdulist[\"POINT SPREAD FUNCTION\"])\n",
    "        sens = Table.read(hdulist[\"SENSITIVITY\"])\n",
    "        edisp = EnergyDispersion2D.read(filename, hdu=\"ENERGY DISPERSION\")\n",
    "        rmf = edisp.to_energy_dispersion(offset=0.5 * u.deg)  # Projection of migration matrix, dummy angle...\n",
    "        \n",
    "        try:  # Collection area without score/angular cut\n",
    "            aeff_no_cuts = Table.read(hdulist[\"SPECRESP (NO CUTS)\"])\n",
    "            aeff_angular_cut = Table.read(hdulist[\"SPECRESP (WITH ANGULAR CUT)\"])\n",
    "            aeff_score_cut = Table.read(hdulist[\"SPECRESP (WITH SCORE CUT)\"])\n",
    "\n",
    "            aeff_no_cuts.columns['SPECRESP (NO CUTS)'].name = 'SPECRESP'\n",
    "            aeff_angular_cut[\"SPECRESP (WITH ANGULAR CUT)\"].name = 'SPECRESP'\n",
    "            aeff_score_cut[\"SPECRESP (WITH SCORE CUT)\"].name = 'SPECRESP'\n",
    "        except:\n",
    "            pass\n",
    "    \n",
    "    # Collection area without score/angular cut, that will be used to contain the IRF\n",
    "    perf = dict(aeff= aeff, bkg= bkg, psf= psf, rmf=rmf, sens=sens, edisp=edisp)\n",
    "\n",
    "    try:\n",
    "        perf['aeff_no_cuts'] = aeff_no_cuts\n",
    "        perf['aeff_angular_cut'] = aeff_angular_cut\n",
    "        perf['aeff_score_cut'] = aeff_score_cut\n",
    "    except:\n",
    "        pass\n",
    "    \n",
    "    return perf\n",
    "\n",
    "def plot_irf(axes, perf, energy_range, label=None, **kwargs):\n",
    "    \"\"\"Plot IRFs, take a list of axes (len=4)\"\"\"\n",
    "    plot_table(axes[0], perf['bkg'], 'BGD', label, energy_range, **kwargs)\n",
    "    plot_table(axes[1], perf['aeff'], 'SPECRESP', label, energy_range, **kwargs)\n",
    "    plot_table(axes[2], perf['psf'], 'PSF68', label, energy_range, **kwargs)\n",
    "    plot_energy_response(axes[3], perf['rmf'], label, energy_range, **kwargs)\n",
    "    \n",
    "    axes[0].set_xlabel('Reco energy [TeV]')\n",
    "    axes[0].set_ylabel('Background rate [Hz]')\n",
    "    axes[0].set_yscale('log')\n",
    "\n",
    "    axes[1].set_xlabel('True energy [TeV]')\n",
    "    axes[1].set_ylabel('Effective area [m2]')\n",
    "    axes[1].set_yscale('log')\n",
    "    \n",
    "    axes[2].set_xlabel('Reco energy [TeV]')\n",
    "    axes[2].set_ylabel('Point spread function (68%) [deg]')\n",
    "    axes[2].set_ylim([0., 0.5]) # dft 0.5\n",
    "\n",
    "    axes[3].set_xlabel('True energy [TeV]')\n",
    "    axes[3].set_ylabel('Energy dispersion [%]')\n",
    "    axes[3].set_ylim([-0.05, 0.85])\n",
    "    \n",
    "    plt.tight_layout()\n",
    "\n",
    "def plot_sensitivity_comparison(list_perf, list_label, list_color, list_erange, perf_ref, config, title, figsize=(10, 10)):\n",
    "    \"\"\"Superpose a list of sensitivity and make a residual plot\"\"\"\n",
    "    fig = plt.figure(figsize=figsize)\n",
    "    gs = gridspec.GridSpec(5, 1, hspace=0.05)\n",
    "    #ax_sens = plt.subplot(gs[:-1, :])\n",
    "    ax_sens = plt.subplot(gs[:-2, :])\n",
    "    #ax_res = plt.subplot(gs[4, :])\n",
    "    ax_res = plt.subplot(gs[-2:, :])\n",
    "    \n",
    "    sens_list = [perf[config]['sens'] for perf in list_perf]\n",
    "    \n",
    "    for idx, sensi in enumerate(sens_list):\n",
    "        plot_sensitivity(\n",
    "            ax_sens,\n",
    "            sensi,\n",
    "            list_label[idx],\n",
    "            list_erange[idx],\n",
    "            **{'color': list_color[idx], 'lw': 2}\n",
    "        )        \n",
    "    \n",
    "    emin = perf_ref[config]['sens']['ENERG_LO'][0]\n",
    "    emax = perf_ref[config]['sens']['ENERG_HI'][-1]\n",
    "    sens_list = []\n",
    "    for perf in list_perf:\n",
    "        sens_table = perf[config]['sens']\n",
    "        new_t = sens_table[(sens_table['ENERG_LO'] >= 0.99 * emin) & (sens_table['ENERG_HI'] <= 1.01 * emax)]\n",
    "        sens_list.append(new_t)\n",
    "    \n",
    "    for idx, sensi in enumerate(sens_list):\n",
    "        \n",
    "        plot_sensitivity_residuals(\n",
    "            ax_res,\n",
    "            sensi,\n",
    "            perf_ref[config]['sens'],\n",
    "            **{'color': list_color[idx], 'lw': 2}\n",
    "        )\n",
    "    \n",
    "    for frac in [0.001, 0.01, 0.1, 1, 10, 100]:\n",
    "        plot_crab(ax_sens, frac)\n",
    "    \n",
    "    sens_min =[sensi['SENSITIVITY'].min() for sensi in sens_list]\n",
    "    sens_min = min(sens_min)\n",
    "    \n",
    "    sens_max =[sensi['SENSITIVITY'].max() for sensi in sens_list]\n",
    "    sens_max = max(sens_max)\n",
    "    \n",
    "    ax_sens.set_xlim([0.02, 200])\n",
    "    ax_sens.set_ylim([sens_min * 0.5, sens_max * 5])\n",
    "    ax_sens.legend(loc='upper right', fontsize='large')\n",
    "    ax_sens.set_xlabel('')\n",
    "    ax_sens.set_xticklabels([])\n",
    "    ax_sens.grid()\n",
    "    ax_sens.loglog()\n",
    "    ax_sens.set_ylabel('Sensitivity [erg / (cm2 s)]')\n",
    "\n",
    "    ax_res.plot([-1e9, 1e9], [0., 0.], **{'color': 'darkgreen', 'lw': 2})\n",
    "    ax_res.grid()\n",
    "    ax_res.set_xscale('log')\n",
    "    ax_res.set_ylabel('Betterness')\n",
    "    ax_res.set_xlabel('Reco energy [TeV]')\n",
    "    ax_res.set_xlim([0.02, 12.5])\n",
    "    ax_res.set_ylim([-1, 1])\n",
    "\n",
    "    ## Text for sensitivity\n",
    "    text = \"Obs. time: {}\\n\".format(config)\n",
    "    text += \"$\\\\alpha$=0.2 and $\\\\sigma$=5\\n\"\n",
    "    text += \"Syst$_{BKG}$=5% and $\\\\gamma_{min}$=10\"\n",
    "    ax_sens.text(\n",
    "            0.1, 0.8 , text,\n",
    "            horizontalalignment='left',\n",
    "            verticalalignment='bottom',\n",
    "            multialignment='left',\n",
    "            bbox=dict(facecolor='white', alpha=1),\n",
    "            fontsize='large',\n",
    "            transform=ax_sens.transAxes\n",
    "    )\n",
    "    \n",
    "    ax_sens.set_title(title, fontweight='bold')\n",
    "    gs.tight_layout(fig)\n",
    "    return ax_sens, ax_res\n",
    "    \n",
    "def plot_table(ax, t, colname, label, energy_range, **kwargs):\n",
    "    \"\"\"Simple function to plot an astropy table\"\"\"\n",
    "    centers = np.sqrt(t['ENERG_LO'] * t['ENERG_HI'])\n",
    "    bin_width = t['ENERG_HI'] - t['ENERG_LO']\n",
    "    err_plus = t['ENERG_HI'] - centers\n",
    "    err_minus = centers - t['ENERG_LO']\n",
    "    values = t[colname]\n",
    "    \n",
    "    # Selection bins in the energy range\n",
    "    idx = np.where( (centers >= energy_range[0]) & (centers <= energy_range[-1]) )\n",
    "    ax.errorbar(centers[idx], values[idx], xerr=(err_minus[idx],err_plus[idx]), label=label, **kwargs)\n",
    "    \n",
    "    return ax\n",
    "\n",
    "def plot_energy_response(ax, rmf, label, energy_range, **kwargs):\n",
    "    \"\"\"Simple function to plot the energy resolution (Gammapy)\"\"\"\n",
    "    energy = rmf.e_true.nodes\n",
    "    bias = rmf.get_bias(energy)\n",
    "    resol = rmf.get_resolution(energy)\n",
    "    \n",
    "    idx = np.where( (energy.value >= energy_range[0]) & (energy.value <= energy_range[-1]) )\n",
    "    \n",
    "    ax.errorbar(energy.value[idx], bias[idx], **kwargs, ls='--')\n",
    "    ax.errorbar(energy.value[idx], resol[idx], label=label, **kwargs, ls='-')\n",
    "    return ax\n",
    "\n",
    "def plot_sensitivity(ax, t, label, energy_range, **kwargs):\n",
    "    plot_table(ax, t, 'SENSITIVITY', label, energy_range, **kwargs)\n",
    "    return ax\n",
    "\n",
    "def plot_sensitivity_residuals(ax, table_sens, table_ref,**kwargs):\n",
    "    emin = table_ref['ENERG_LO'][0]\n",
    "    emax = table_ref['ENERG_HI'][-1]\n",
    "    t = table_sens[(table_sens['ENERG_LO'] >= 0.99 * emin) & (table_sens['ENERG_HI'] <= 1.01 * emax)]\n",
    "    \n",
    "    t_ratio = Table()\n",
    "    t_ratio['ENERG_LO'] = t['ENERG_LO'].data\n",
    "    t_ratio['ENERG_HI'] = t['ENERG_HI'].data\n",
    "    t_ratio['RATIO'] = (1. - (t['SENSITIVITY'] / table_ref['SENSITIVITY']))\n",
    "    \n",
    "    plot_table(ax=ax, t=t_ratio, colname='RATIO', label=None, energy_range=[0.01, 300.], **kwargs)\n",
    "    return ax\n",
    "\n",
    "def plot_crab(ax, fraction):\n",
    "    \"\"\"Plot Crab spectra\"\"\"\n",
    "    crab_model = CrabSpectrum('hegra').model\n",
    "    reference = 1 * u.TeV\n",
    "    amplitude = crab_model(energy=reference) * fraction\n",
    "    index = CrabSpectrum('hegra').model.parameters['index'].value\n",
    "    energy = np.logspace(-3, 3, 100) * u.TeV\n",
    "    flux = PowerLaw(amplitude=amplitude, reference=reference, index=index)(energy)\n",
    "    e2flux = (flux * energy **2) * u.TeV.to('erg')\n",
    "    ax.plot(energy.value, e2flux.value, ls='--', lw=2, color='grey', alpha=0.5)"
   ]
  },
  {
   "cell_type": "markdown",
   "metadata": {},
   "source": [
    "## Load ..."
   ]
  },
  {
   "cell_type": "markdown",
   "metadata": {},
   "source": [
    "First we check if a _plots_ folder exists already.  \n",
    "If not, we create it."
   ]
  },
  {
   "cell_type": "code",
   "execution_count": null,
   "metadata": {},
   "outputs": [],
   "source": [
    "Path(\"./plots_DL3\").mkdir(parents=True, exist_ok=True)"
   ]
  },
  {
   "cell_type": "markdown",
   "metadata": {},
   "source": [
    "### ... protopipe's performance"
   ]
  },
  {
   "cell_type": "code",
   "execution_count": null,
   "metadata": {},
   "outputs": [],
   "source": [
    "# Files\n",
    "opti = 'opti'  # r68, fixed, opti\n",
    "filenames = {'100s': 'irf_tail_ThSq_opti_Time100.00s/irf.fits.gz',\n",
    "             '30m': 'irf_tail_ThSq_opti_Time30.00min/irf.fits.gz',\n",
    "             '5h': 'irf_tail_ThSq_opti_Time5.00h/irf.fits.gz'.format(opti),\n",
    "             '50h': 'irf_tail_ThSq_opti_Time50.00h/irf.fits.gz'}\n",
    "    \n",
    "# Full array performance\n",
    "indir = os.path.expandvars('../performance/')\n",
    "perf = dict()\n",
    "for key in filenames.keys():\n",
    "    perf[key] = get_performance(os.path.join(indir, filenames[key]))"
   ]
  },
  {
   "cell_type": "markdown",
   "metadata": {},
   "source": [
    "### ... ASWG's performance"
   ]
  },
  {
   "cell_type": "code",
   "execution_count": null,
   "metadata": {},
   "outputs": [],
   "source": [
    "indir = './reference_data/aswg/point-like/CTA-Performance-North-IRF-onAxis-reco2_ROOT_20170627_fits/'\n",
    "indir = os.path.expandvars(indir)\n",
    "    \n",
    "filenames = {'100s': 'CTA-Performance-North-20deg-S-onaxis-100s_20170627.fits.gz',\n",
    "             '30m': 'CTA-Performance-North-20deg-S-onaxis-30m_20170627.fits.gz',\n",
    "             '5h': 'CTA-Performance-North-20deg-S-onaxis-05h_20170627.fits.gz', \n",
    "             '50h': 'CTA-Performance-North-20deg-S-onaxis-50h_20170627.fits.gz'}\n",
    "perf_mars_fullarray = dict()\n",
    "for key in filenames.keys():\n",
    "    perf_mars_fullarray[key] = get_performance(os.path.join(indir, filenames[key]))"
   ]
  },
  {
   "cell_type": "markdown",
   "metadata": {},
   "source": [
    "# Load Requirements"
   ]
  },
  {
   "cell_type": "code",
   "execution_count": null,
   "metadata": {},
   "outputs": [],
   "source": [
    "indir = './reference_data/requirements/'\n",
    "\n",
    "# Full array\n",
    "infiles = dict(sens='/North-30m.dat') # 30 min\n",
    "requirements = dict()\n",
    "for key in infiles.keys():\n",
    "    requirements[key] = Table.read(indir + infiles[key], format='ascii')\n",
    "requirements['sens'].add_column(Column(data=(10**requirements['sens']['col1']), name='ENERGY'))\n",
    "requirements['sens'].add_column(Column(data=requirements['sens']['col2'], name='SENSITIVITY'))"
   ]
  },
  {
   "cell_type": "markdown",
   "metadata": {},
   "source": [
    "## Plots"
   ]
  },
  {
   "cell_type": "code",
   "execution_count": null,
   "metadata": {},
   "outputs": [],
   "source": [
    "obs_time = '30m'\n",
    "site = \"CTA_North\"\n",
    "array = 'full_array'\n",
    "zenith = '20'\n",
    "azimuth = '0'"
   ]
  },
  {
   "cell_type": "markdown",
   "metadata": {},
   "source": [
    "## Plot IRFs"
   ]
  },
  {
   "cell_type": "code",
   "execution_count": null,
   "metadata": {},
   "outputs": [],
   "source": [
    "plt.figure(figsize=(10, 8))\n",
    "\n",
    "ax_bkg = plt.subplot2grid((2, 2), (0, 0))\n",
    "ax_area = plt.subplot2grid((2, 2), (0, 1))\n",
    "ax_psf = plt.subplot2grid((2, 2), (1, 0))\n",
    "ax_resol = plt.subplot2grid((2, 2), (1, 1))\n",
    "axes = [ax_bkg, ax_area, ax_psf, ax_resol]\n",
    "\n",
    "plot_irf(axes=axes, perf=perf[obs_time], label=\"Full array (protopipe)\", energy_range=[0.01, 51.], **{'color': 'darkgreen', 'lw': 2})\n",
    "plot_irf(axes=axes, perf=perf_mars_fullarray[obs_time], label=\"Full array (MARS)\", energy_range=[0.01, 51.], **{'color': 'darkblue', 'lw': 2})\n",
    "\n",
    "for ax in axes:\n",
    "    ax.grid()\n",
    "    ax.legend(loc='best')\n",
    "    ax.set_xscale('log')\n",
    "    ax.set_xlim([0.02, 200])\n",
    "\n",
    "plt.tight_layout()\n",
    "plt.savefig(f\"./plots_DL3/IRFs_{site}_{array}_{obs_time}.png\")"
   ]
  },
  {
   "cell_type": "markdown",
   "metadata": {},
   "source": [
    "## Plot sensitivity"
   ]
  },
  {
   "cell_type": "code",
   "execution_count": null,
   "metadata": {},
   "outputs": [],
   "source": [
    "ax_sens, ax_res = plot_sensitivity_comparison(\n",
    "    list_perf=[perf, perf_mars],\n",
    "    list_label=['This work (>=3 Tels)', 'MARS analysis'],\n",
    "    list_color=['darkorange', 'darkblue'],\n",
    "    list_erange=[[0.01, 30.], [0.01, 30.]],\n",
    "    perf_ref=perf,\n",
    "    config=obs_time,\n",
    "    title = f\"{site}_{array}_{obs_time}_zd{zenith}_az{azimuth}\"\n",
    "    figsize=(10, 8)\n",
    ")\n",
    "\n",
    "ax_sens.plot(requirements['sens']['ENERGY'], \n",
    "             requirements['sens']['SENSITIVITY'], \n",
    "             color='black', \n",
    "             ls='--', \n",
    "             lw=4, \n",
    "             label='Requirements')\n",
    "\n",
    "ax_sens.legend(loc='upper right', fontsize='large')\n",
    "ax_res.set_ylim([-0.5, 1.1])\n",
    "ax_res.set_xlim([0.0125, 30])\n",
    "ax_sens.set_xlim([0.0125, 30])\n",
    "ax_sens.set_ylim([1.e-12, 200.e-9])\n",
    "\n",
    "plt.tight_layout()\n",
    "plt.savefig(f\"./plots_DL3/sensitivity_{site}_{array}_{obs_time}.png\")"
   ]
  }
 ],
 "metadata": {
  "kernelspec": {
   "display_name": "Python 3",
   "language": "python",
   "name": "python3"
  },
  "language_info": {
   "codemirror_mode": {
    "name": "ipython",
    "version": 3
   },
   "file_extension": ".py",
   "mimetype": "text/x-python",
   "name": "python",
   "nbconvert_exporter": "python",
   "pygments_lexer": "ipython3",
   "version": "3.7.7"
  }
 },
 "nbformat": 4,
 "nbformat_minor": 2
}
