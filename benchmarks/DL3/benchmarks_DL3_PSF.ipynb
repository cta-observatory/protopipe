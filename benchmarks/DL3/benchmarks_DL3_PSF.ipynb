{
 "cells": [
  {
   "cell_type": "markdown",
   "metadata": {},
   "source": [
    "# Point spread function"
   ]
  },
  {
   "cell_type": "markdown",
   "metadata": {},
   "source": [
    "**WARNING**\n",
    "\n",
    "This is still a work-in-progress, it will evolve with the pipeline comparisons and converge with ctaplot+cta-benchmarks."
   ]
  },
  {
   "cell_type": "markdown",
   "metadata": {},
   "source": [
    "**Author(s):**\n",
    "    \n",
    "- Dr. Michele Peresano (CEA-Saclay/IRFU/DAp/LEPCHE), 2020\n",
    "\n",
    "based on previous work by J. Lefacheur.\n",
    "\n",
    "**Description:**\n",
    "\n",
    "This notebook contains benchmarks for the _protopipe_ pipeline regarding the angular distribution of the showers selected for DL3 data.\n",
    "\n",
    "Note that:\n",
    "    - a more general set of benchmarks is being defined in cta-benchmarks/ctaplot,\n",
    "    - follow [this](https://www.overleaf.com/16933164ghbhvjtchknf) document by adding new benchmarks or proposing new ones.\n",
    "\n",
    "**Requirements:**\n",
    "\n",
    "To run this notebook you will need a set of DL2 data produced on the grid with protopipe.\n",
    "The MC production to be used and the appropriate set of files to use for this notebook can be found [here](https://forge.in2p3.fr/projects/step-by-step-reference-mars-analysis/wiki#The-MC-sample ).\n",
    "\n",
    "The data format required to run the notebook is the current one used by _protopipe_ .\n",
    "Later on it will be the same as in _ctapipe_ + _pyirf_.\n",
    "\n",
    "**Development and testing:**  \n",
    "\n",
    "For the moment this notebook is optimized to work only on files produced from LSTCam + NectarCam telescope configurations.  \n",
    "As with any other part of _protopipe_ and being part of the official repository, this notebook can be further developed by any interested contributor.  \n",
    "The execution of this notebook is not currently automatic, it must be done locally by the user - preferably _before_ pushing a pull-request.  \n",
    "**IMPORTANT:** Please, if you wish to contribute to this notebook, before pushing anything to your branch (better even before opening the PR) clear all the output and remove any local directory paths that you used for testing (leave empty strings).\n",
    "\n",
    "**TODO:**  \n",
    "* update everything...\n",
    "* add remaining benchmarks from CTA-MARS comparison\n",
    "* same for EventDisplay"
   ]
  },
  {
   "cell_type": "markdown",
   "metadata": {},
   "source": [
    "## Imports"
   ]
  },
  {
   "cell_type": "code",
   "execution_count": null,
   "metadata": {},
   "outputs": [],
   "source": [
    "%matplotlib inline\n",
    "import matplotlib.pyplot as plt\n",
    "cmap = dict()\n",
    "import matplotlib.colors as colors\n",
    "from matplotlib.colors import LogNorm, PowerNorm\n",
    "count = 0\n",
    "for key in colors.cnames:\n",
    "    if 'dark' in key:\n",
    "    #if key in key:\n",
    "        cmap[count] = key\n",
    "        count = count + 1\n",
    "#cmap = {'black': 0, 'red': 1, 'blue': 2, 'green': 3}\n",
    "cmap = {0: 'black', 1: 'red', 2: 'blue', 3: 'green'}\n",
    "import os\n",
    "import numpy as np\n",
    "import pandas as pd\n",
    "\n",
    "import astropy.coordinates as c\n",
    "import astropy.wcs as wcs\n",
    "import astropy.units as u\n",
    "import matplotlib.pyplot as plt"
   ]
  },
  {
   "cell_type": "markdown",
   "metadata": {},
   "source": [
    "## Functions"
   ]
  },
  {
   "cell_type": "code",
   "execution_count": null,
   "metadata": {},
   "outputs": [],
   "source": [
    "def compute_psf(data, ebins, radius):\n",
    "    nbin = len(ebins) - 1\n",
    "    psf = np.zeros(nbin)\n",
    "    psf_err = np.zeros(nbin)\n",
    "    for idx in range(nbin):\n",
    "        emin = ebins[idx]\n",
    "        emax = ebins[idx+1]\n",
    "        sel = data.loc[(data['mc_energy'] >= emin) & (data['mc_energy'] < emax), ['xi']]\n",
    "        if len(sel) != 0:\n",
    "            psf[idx] = np.percentile(sel['xi'], radius)\n",
    "            psf_err[idx] = psf[idx] / np.sqrt(len(sel))\n",
    "        else:\n",
    "            psf[idx] = 0.\n",
    "            psf_err[idx] = 0.\n",
    "    return psf, psf_err\n",
    "\n",
    "def plot_psf(ax, x, y, err, **kwargs):\n",
    "    color = kwargs.get('color', 'red')\n",
    "    label = kwargs.get('label', '')\n",
    "    xlabel = kwargs.get('xlabel', '')\n",
    "    xlim = kwargs.get('xlim', None)\n",
    "    \n",
    "    ax.errorbar(x, y, yerr=err, fmt='o', label=label, color=color) #, yerr=err, fmt='o') #, color=color, label=label)\n",
    "    ax.set_ylabel('PSF (68% containment)')\n",
    "    ax.set_xlabel('True energy [TeV]')\n",
    "    if xlim is not None:\n",
    "        ax.set_xlim(xlim)\n",
    "    return ax"
   ]
  },
  {
   "cell_type": "markdown",
   "metadata": {},
   "source": [
    "# Load data"
   ]
  },
  {
   "cell_type": "markdown",
   "metadata": {},
   "source": [
    "First we check if a _plots_ folder exists already.  \n",
    "If not, we create it."
   ]
  },
  {
   "cell_type": "code",
   "execution_count": null,
   "metadata": {},
   "outputs": [],
   "source": [
    "Path(\"./plots_DL3\").mkdir(parents=True, exist_ok=True)"
   ]
  },
  {
   "cell_type": "code",
   "execution_count": null,
   "metadata": {},
   "outputs": [],
   "source": [
    "parent = '' # your analysis parent folder (better use an absolute path)\n",
    "config = 'LaPalma_fullArray_zen20_az0' # analysis descriptor to be used as suffix in the plots\n",
    "\n",
    "data_dir = f'{}/data/DL2'\n",
    "data_file = 'dl2_tail_gamma_merged.h5'\n",
    "data_evt = pd.read_hdf(os.path.join(data_dir, data_file), \"/reco_events\")"
   ]
  },
  {
   "cell_type": "markdown",
   "metadata": {},
   "source": [
    "## Benchmarks"
   ]
  },
  {
   "cell_type": "markdown",
   "metadata": {},
   "source": [
    "### Point Spread Function (PSF)"
   ]
  },
  {
   "cell_type": "code",
   "execution_count": null,
   "metadata": {},
   "outputs": [],
   "source": [
    "r_containment = 68\n",
    "\n",
    "energy_edges = np.logspace(np.log10(0.01), np.log10(51), 18 + 1, True)\n",
    "energy = np.sqrt(energy_edges[1:] * energy_edges[:-1])\n",
    "multiplicity_cuts = ['NTels_reco == 2','NTels_reco == 3', 'NTels_reco == 4', 'NTels_reco >= 2']\n",
    "\n",
    "plt.figure(figsize=(20,20))\n",
    "fig, axes = plt.subplots(nrows=1, ncols=2, figsize=(10, 5))\n",
    "axes = axes.flatten()\n",
    "\n",
    "cmap = {0: 'black', 1: 'red', 2: 'blue', 3: 'green'}\n",
    "\n",
    "limit = [0.01, 51]\n",
    "for cut_idx, cut in enumerate(multiplicity_cuts):\n",
    "    data_mult = data_evt.query(cut)\n",
    "    psf, err_psf = compute_psf(data_mult, energy_edges, 68)\n",
    "    opt={'color': cmap[cut_idx], 'label': multiplicity_cuts[cut_idx]}\n",
    "    plot_psf(axes[0], energy, psf, err_psf, **opt)\n",
    "    \n",
    "    y, tmp = np.histogram(data_mult['mc_energy'], bins=energy_edges)\n",
    "    weights = np.ones_like(y)\n",
    "    #weights = weights / float(np.sum(y))\n",
    "    yerr = np.sqrt(y) * weights\n",
    "    centers = 0.5 * (energy_edges[1:] + energy_edges[:-1])\n",
    "    width = energy_edges[1:] - energy_edges[:-1]\n",
    "    axes[1].bar(centers, y * weights, width=width, yerr=yerr, **{'edgecolor': cmap[cut_idx], 'label': multiplicity_cuts[cut_idx], 'lw': 2, 'fill': False})\n",
    "    axes[1].set_ylabel('Number of events')\n",
    "    \n",
    "for ax in axes:\n",
    "    ax.set_xlim(limit)\n",
    "    ax.set_xscale('log')\n",
    "    ax.legend(loc='best')\n",
    "    ax.grid(which='both')\n",
    "    ax.set_xlabel('True energy [TeV]')\n",
    "\n",
    "plt.tight_layout()\n",
    "\n",
    "fig.savefig(f\"./plots_DL3/PSF_{config}.png\")"
   ]
  },
  {
   "cell_type": "markdown",
   "metadata": {},
   "source": [
    "### PSF asymmetry"
   ]
  },
  {
   "cell_type": "code",
   "execution_count": null,
   "metadata": {},
   "outputs": [],
   "source": [
    "data = data_evt[ (data_evt.mc_energy > 0.05) & (data_evt.NTels_reco_lst > 2) ].copy().head(26013)\n",
    "data.loc[data_evt.reco_az<-180, 'reco_az'] += 360.0\n",
    "data['reco_az_sky'] = data.reco_az * np.cos(np.deg2rad(data.reco_alt))\n",
    "\n",
    "CENTER_ALT_DEG = 70.0\n",
    "CENTER_AZ_DEG = 0.0\n",
    "\n",
    "dalt = data.reco_alt - CENTER_ALT_DEG\n",
    "daz = data.reco_az_sky - CENTER_AZ_DEG\n",
    "\n",
    "\n",
    "the_range = [-2,2]\n",
    "plt.figure(figsize=(5,5))\n",
    "plt.semilogy()\n",
    "\n",
    "plt.hist(daz, bins=100, range=the_range, label='az')\n",
    "plt.hist(dalt, bins=100, range=the_range, alpha=0.5, label='alt')\n",
    "\n",
    "plt.xlabel(\"Deg on sky\")\n",
    "plt.legend()\n",
    "\n",
    "fig.savefig(f\"./plots_DL3/PSFasymmetry_altaz_{config}.png\")"
   ]
  },
  {
   "cell_type": "code",
   "execution_count": null,
   "metadata": {},
   "outputs": [],
   "source": [
    "angcut = data['offset'] < 0.05\n",
    "dx = 0.3\n",
    "\n",
    "plt.figure(figsize=(5,5))\n",
    "\n",
    "ax = plt.gca()\n",
    "\n",
    "ax.scatter(daz, dalt, alpha=0.1, s=1, label='no ang cut')\n",
    "ax.scatter(daz[angcut], dalt[angcut], alpha=0.05, s=1, label='with ang cut')\n",
    "\n",
    "ax.set_aspect('equal')\n",
    "ax.set_xlim(-2*dx,2*dx)\n",
    "ax.set_ylim(-2*dx,2*dx)\n",
    "ax.legend()\n",
    "ax.set_xlabel('cent. Az [deg]')\n",
    "ax.set_ylabel('cent. Alt [deg]')\n",
    "plt.tight_layout()\n",
    "\n",
    "fig.savefig(f\"./plots_DL3/PSFasymmetry_2D_altaz_{config}.png\")"
   ]
  },
  {
   "cell_type": "code",
   "execution_count": null,
   "metadata": {},
   "outputs": [],
   "source": [
    "print('daz = {:.4f} +/- {:.4f}'.format(daz.mean(), daz.std()))\n",
    "print('dalt = {:.4f} +/- {:.4f}'.format(dalt.mean(), dalt.std()))"
   ]
  }
 ],
 "metadata": {
  "kernelspec": {
   "display_name": "Python 3",
   "language": "python",
   "name": "python3"
  },
  "language_info": {
   "codemirror_mode": {
    "name": "ipython",
    "version": 3
   },
   "file_extension": ".py",
   "mimetype": "text/x-python",
   "name": "python",
   "nbconvert_exporter": "python",
   "pygments_lexer": "ipython3",
   "version": "3.7.7"
  }
 },
 "nbformat": 4,
 "nbformat_minor": 2
}
