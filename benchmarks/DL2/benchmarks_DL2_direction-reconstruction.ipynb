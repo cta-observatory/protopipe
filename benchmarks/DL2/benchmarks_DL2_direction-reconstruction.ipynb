{
 "cells": [
  {
   "cell_type": "markdown",
   "metadata": {},
   "source": [
    "# Direction reconstruction"
   ]
  },
  {
   "cell_type": "markdown",
   "metadata": {},
   "source": [
    "Description here"
   ]
  },
  {
   "cell_type": "markdown",
   "metadata": {},
   "source": [
    "## Imports"
   ]
  },
  {
   "cell_type": "code",
   "execution_count": null,
   "metadata": {},
   "outputs": [],
   "source": [
    "import pandas"
   ]
  },
  {
   "cell_type": "markdown",
   "metadata": {},
   "source": [
    "## Functions"
   ]
  },
  {
   "cell_type": "markdown",
   "metadata": {},
   "source": [
    "### Load data with pandas"
   ]
  },
  {
   "cell_type": "code",
   "execution_count": null,
   "metadata": {},
   "outputs": [],
   "source": [
    "def load_reset_dl1_pandas(indir = \"./\", fileName = \"dl1_tail_gamma_z20_az180_LaPalma_baseline_run100_withMono.h5\", config=\"test\"):\n",
    "    \"\"\"(Re)load the file containing DL1(a) data and extract the data per telescope type.\"\"\"\n",
    "    # load DL1 images\n",
    "    data_LST = pandas.read_hdf(f\"{indir}/{fileName}\", \"/feature_events_LSTCam\")\n",
    "    data_MST = pandas.read_hdf(f\"{indir}/{fileName}\", \"/feature_events_NectarCam\")\n",
    "    suffix = config # all generated plots will have this as a suffix in their name\n",
    "    return data_LST, data_MST, suffix"
   ]
  },
  {
   "cell_type": "markdown",
   "metadata": {},
   "source": [
    "### Quantities to plot"
   ]
  },
  {
   "cell_type": "code",
   "execution_count": null,
   "metadata": {},
   "outputs": [],
   "source": [
    "def dl1_quantities(data):\n",
    "    \"\"\"A dictionary of the quantities available with this format of DL1 in protopipe.\n",
    "    \n",
    "    WARNING: for the moment protopipe uses one cleaning algorithm (biggest cluster),\n",
    "    even though it allows for two;\n",
    "    this means that all the quantities with the suffix \"_reco\" are the same as those without suffix.\n",
    "    \"\"\"\n",
    "    \n",
    "    if type(data)!=pandas.core.frame.DataFrame:\n",
    "        \n",
    "        dictionary = {\n",
    "\n",
    "            \"Intensity [#phe]\"   : data.col(\"sum_signal_cam\"), # aka SIZE\n",
    "            \"Width [m]\"          : data.col(\"width\"),\n",
    "            \"Length [m]\"         : data.col(\"length\"),\n",
    "            \"Skewness\"           : data.col(\"skewness\"),\n",
    "            \"Kurtosis\"           : data.col(\"kurtosis\"),\n",
    "            \"H_max [m]\"          : data.col(\"h_max\"),\n",
    "            \"n_pixel\"            : data.col(\"n_pixel\"),\n",
    "            \"Ellipticity\"        : data.col(\"ellipticity\"),\n",
    "#             \"Leakage 1\"          : data.col(\"leak1_reco\")  # see cta-observatory/protopipe#41\n",
    "            \"psi\"                : (data.col(\"psi_reco\") * u.deg).to(u.rad),\n",
    "            \"cog_x\"              : data.col(\"cog_x\"),\n",
    "            \"cog_y\"              : data.col(\"cog_y\"),\n",
    "\n",
    "        }\n",
    "        \n",
    "    else:\n",
    "        \n",
    "        dictionary = {\n",
    "\n",
    "            \"Intensity [#phe]\"   : data[\"sum_signal_cam\"], # aka SIZE\n",
    "            \"Width [m]\"          : data[\"width\"],\n",
    "            \"Length [m]\"         : data[\"length\"],\n",
    "            \"Skewness\"           : data[\"skewness\"],\n",
    "            \"Kurtosis\"           : data[\"kurtosis\"],\n",
    "            \"H_max [m]\"          : data[\"h_max\"],\n",
    "            \"n_pixel\"            : data[\"n_pixel\"],\n",
    "            \"Ellipticity\"        : data[\"ellipticity\"],\n",
    "    #         \"Leakage 1\"          : data.col(\"leak1_reco\")  # see cta-observatory/protopipe#41\n",
    "            \"psi\"                : data[\"psi_reco\"],\n",
    "            \"cog_x\"              : data[\"cog_x\"],\n",
    "            \"cog_y\"              : data[\"cog_y\"],            \n",
    "\n",
    "        }\n",
    "    \n",
    "    return dictionary"
   ]
  },
  {
   "cell_type": "markdown",
   "metadata": {},
   "source": [
    "### Add statistical information to a plot"
   ]
  },
  {
   "cell_type": "code",
   "execution_count": null,
   "metadata": {},
   "outputs": [],
   "source": [
    "def add_stats(x, ax):\n",
    "    \"\"\"Add a textbox containing statistical information.\"\"\"\n",
    "    mu = x.mean()\n",
    "    median = np.median(x)\n",
    "    sigma = x.std()\n",
    "    textstr = '\\n'.join((\n",
    "        r'$\\mu=%.2f$' % (mu, ),\n",
    "        r'$\\mathrm{median}=%.2f$' % (median, ),\n",
    "        r'$\\sigma=%.2f$' % (sigma, )))\n",
    "\n",
    "    # these are matplotlib.patch.Patch properties\n",
    "    props = dict(boxstyle='round', facecolor='wheat', alpha=0.5)\n",
    "\n",
    "    # place a text box in upper left in axes coords\n",
    "    ax.text(0.70, 0.85, \n",
    "            textstr, \n",
    "            transform=ax.transAxes, \n",
    "            fontsize=10,\n",
    "            horizontalalignment='left',\n",
    "            verticalalignment='center', \n",
    "            bbox=props)"
   ]
  },
  {
   "cell_type": "markdown",
   "metadata": {},
   "source": [
    "## Load data"
   ]
  },
  {
   "cell_type": "code",
   "execution_count": null,
   "metadata": {},
   "outputs": [],
   "source": [
    "# fill with the correct path, filename of the generated file in your system\n",
    "data_LST, data_MST, config = load_reset_dl1_pandas()\n",
    "cameras = [\"LSTCam\", \"NectarCam\"]"
   ]
  },
  {
   "cell_type": "code",
   "execution_count": null,
   "metadata": {},
   "outputs": [],
   "source": [
    "# Get DL1 quantities as numpy arrays or pandas.Dataframe columns\n",
    "DL1_LST = dl1_quantities(data_LST)\n",
    "DL1_MST = dl1_quantities(data_MST)\n",
    "DL1 = [DL1_LST, DL1_MST]"
   ]
  },
  {
   "cell_type": "markdown",
   "metadata": {},
   "source": [
    "### Add secondary variables"
   ]
  },
  {
   "cell_type": "code",
   "execution_count": null,
   "metadata": {},
   "outputs": [],
   "source": [
    "# add miss**2 to DL1 dictionaries in pandas format\n",
    "for camera_index in range(len(cameras)):\n",
    "    DL1[camera_index][\"miss2 [deg**2]\"] = miss_deg[camera_index]**2"
   ]
  },
  {
   "cell_type": "markdown",
   "metadata": {},
   "source": [
    "## Plots and benchmarks"
   ]
  },
  {
   "cell_type": "markdown",
   "metadata": {},
   "source": [
    "First we check if a _plots_ folder exists already.  \n",
    "If not, we create it."
   ]
  },
  {
   "cell_type": "code",
   "execution_count": null,
   "metadata": {},
   "outputs": [],
   "source": [
    "Path(\"./plots_direction_reconstruction\").mkdir(parents=True, exist_ok=True)"
   ]
  },
  {
   "cell_type": "markdown",
   "metadata": {},
   "source": [
    "### Direction Look-up tables"
   ]
  },
  {
   "cell_type": "markdown",
   "metadata": {},
   "source": [
    "PROBLEM:\n",
    "in CTA-MARS the DL@ events are weighted using the 'miss' parameter, which we don't have straight from the DL1 file.\n",
    "\n",
    "We can calculate it:\n",
    "_miss__ is just the minimum distance between the true gamma-ray position and the image axis.\n",
    "we have both the x-axis of the camera and the angle between it and the image axis.\n",
    "\n",
    "TODO:\n",
    "* decide if calculating it here or directly from ctapipe/protopipe"
   ]
  },
  {
   "cell_type": "markdown",
   "metadata": {},
   "source": [
    "#### Produce tables"
   ]
  },
  {
   "cell_type": "code",
   "execution_count": null,
   "metadata": {},
   "outputs": [],
   "source": [
    "lst_optics = OpticsDescription.from_name(\"LST\")\n",
    "mst_optics = OpticsDescription.from_name(\"MST\")\n",
    "foc_length_lst = lst_optics.equivalent_focal_length\n",
    "foc_length_mst = mst_optics.equivalent_focal_length"
   ]
  },
  {
   "cell_type": "code",
   "execution_count": null,
   "metadata": {},
   "outputs": [],
   "source": [
    "# result in meters\n",
    "disp_lst, miss_lst = camera_to_shower_coordinates(0., 0., data_LST[\"cog_x\"], data_LST[\"cog_y\"], data_LST[\"psi\"])\n",
    "disp_mst, miss_mst = camera_to_shower_coordinates(0., 0., data_MST[\"cog_x\"], data_MST[\"cog_y\"], data_MST[\"psi\"])\n",
    "# convert miss parameter from meters to degrees (WARNING: calculation probably approximate or even wrong)\n",
    "miss_lst_deg = distance_deg(miss_lst, foc_length_lst.value)\n",
    "miss_mst_deg = distance_deg(miss_mst, foc_length_mst.value)\n",
    "miss_deg = [miss_lst_deg, miss_mst_deg]"
   ]
  },
  {
   "cell_type": "code",
   "execution_count": null,
   "metadata": {},
   "outputs": [],
   "source": [
    "# build LUTs of Intensity and w/l\n",
    "H = [None for camera_index in range(len(cameras))]\n",
    "xedges = [None for camera_index in range(len(cameras))]\n",
    "yedges = [None for camera_index in range(len(cameras))]\n",
    "nbins_x = 13\n",
    "nbins_y = 20\n",
    "for camera_index in range(len(cameras)):\n",
    "    H[camera_index], xedges[camera_index], yedges[camera_index] = np.histogram2d(np.log10(DL1[camera_index][\"Intensity [#phe]\"]),\n",
    "                     (DL1[camera_index][\"Ellipticity\"]), bins=[nbins_x,nbins_y], range=[[1.,6.],[0.,1.]])"
   ]
  },
  {
   "cell_type": "code",
   "execution_count": null,
   "metadata": {},
   "outputs": [],
   "source": [
    "# calculate average miss*2\n",
    "nbins_x = 13\n",
    "nbins_y = 20\n",
    "average_miss2 = [np.zeros((13, 20)),np.zeros((13, 20))]\n",
    "for camera_index in range(len(cameras)):\n",
    "    for x_bin in range(nbins_x):\n",
    "        for y_bin in range(nbins_y):\n",
    "            min_intensity = xedges[camera_index][x_bin]\n",
    "            max_intensity = xedges[camera_index][x_bin+1]\n",
    "            min_ellipticity = yedges[camera_index][y_bin]\n",
    "            max_ellipticity = yedges[camera_index][y_bin+1]\n",
    "            intensity = DL1[camera_index][\"Intensity [#phe]\"]\n",
    "            ellipticity = DL1[camera_index][\"Ellipticity\"]\n",
    "            selected_images = (np.log10(intensity) >= min_intensity) & (np.log10(intensity) < max_intensity) & (ellipticity >= min_ellipticity) & (ellipticity < max_ellipticity)\n",
    "            filtered_miss2 = DL1[camera_index][\"miss2 [deg**2]\"][selected_images]\n",
    "            average_miss2[camera_index][x_bin][y_bin] = filtered_miss2.mean()"
   ]
  },
  {
   "cell_type": "markdown",
   "metadata": {},
   "source": [
    "#### Plot as counts"
   ]
  },
  {
   "cell_type": "code",
   "execution_count": null,
   "metadata": {},
   "outputs": [],
   "source": [
    "nbins_x = 13\n",
    "nbins_y = 20\n",
    "cameras = [\"LSTCam\", \"NectarCam\"]\n",
    "LUTs = [None] * len(cameras)\n",
    "\n",
    "for camera_index in range(len(cameras)):\n",
    "    \n",
    "    fig = plt.figure(figsize=(6, 5), tight_layout=False)\n",
    "    plt.xlabel(\"log10(Intensity ['phe'])\")\n",
    "    plt.ylabel(\"Ellipticity [Width [m] / Length [m]]\")\n",
    "    \n",
    "    LUT= plt.hist2d(np.log10(DL1[camera_index][\"Intensity [#phe]\"]),\n",
    "                     DL1[camera_index][\"Ellipticity\"],\n",
    "                   bins=[nbins_x, nbins_y],\n",
    "                   range=[[1.,6.],[0.,1.]],\n",
    "                   norm=LogNorm(),\n",
    "                   cmap=plt.cm.rainbow,\n",
    "                  )\n",
    "    \n",
    "    plt.colorbar()\n",
    "    \n",
    "    LUTs[camera_index] = LUT\n",
    "    \n",
    "    fig.savefig(f\"./plots_direction_reconstruction/directionLUTsCounts_{cameras[camera_index]}_protopipe_{config}.png\")"
   ]
  },
  {
   "cell_type": "markdown",
   "metadata": {},
   "source": [
    "#### Plot as weights with miss**2 (deg**2)"
   ]
  },
  {
   "cell_type": "code",
   "execution_count": null,
   "metadata": {},
   "outputs": [],
   "source": [
    "nbins_x = 13\n",
    "nbins_y = 20\n",
    "cameras = [\"LSTCam\", \"NectarCam\"]\n",
    "LUTs = [None] * len(cameras)\n",
    "\n",
    "for camera_index in range(len(cameras)):\n",
    "    \n",
    "    fig = plt.figure(figsize=(6, 5), tight_layout=False)\n",
    "    plt.xlabel(\"log10(Intensity ['phe'])\")\n",
    "    plt.ylabel(\"Ellipticity [Width [m] / Length [m]]\")\n",
    "    \n",
    "    miss2 = np.nan_to_num(average_miss2[camera_index])\n",
    "    \n",
    "    LUT = plt.pcolormesh(\n",
    "                   xedges[camera_index],\n",
    "                   yedges[camera_index],\n",
    "                   np.transpose(miss2),\n",
    "                   cmap=plt.cm.rainbow,\n",
    "                   norm=LogNorm(),\n",
    "                  )\n",
    "    \n",
    "    plt.colorbar()\n",
    "    \n",
    "    LUTs[camera_index] = LUT\n",
    "    \n",
    "    fig.savefig(f\"./plots_direction_reconstruction/directionLUTsMiss2_{cameras[camera_index]}_protopipe_{config}.png\")"
   ]
  },
  {
   "cell_type": "code",
   "execution_count": null,
   "metadata": {},
   "outputs": [],
   "source": [
    "fig = plt.figure(figsize=(6, 5), tight_layout=False)\n",
    "plt.xlabel(\"log10(intensity)\")\n",
    "plt.ylabel(\"miss**2 (deg**2)\")\n",
    "\n",
    "for camera_index in range(len(cameras)):\n",
    "    \n",
    "    bincenters = (xedges[camera_index][1:] + xedges[camera_index][:-1])/2\n",
    "    # bin 9 corresponds to ellipticity between 0.45 and 0.5\n",
    "    plt.plot(bincenters, np.nan_to_num(average_miss2[camera_index])[:,9], label=f\"{cameras[camera_index]}\")\n",
    "    \n",
    "\n",
    "plt.legend()\n",
    "    \n",
    "fig.savefig(f\"./plots_direction_reconstruction/directionLUTsMiss2_slice_{cameras[camera_index]}_protopipe_{config}.png\")"
   ]
  },
  {
   "cell_type": "markdown",
   "metadata": {},
   "source": [
    "### Angular resolution (68% containment of the PSF) vs true energy"
   ]
  },
  {
   "cell_type": "markdown",
   "metadata": {},
   "source": [
    "### Reconstruction efficiency relative to the number of stereoscopic triggers"
   ]
  },
  {
   "cell_type": "markdown",
   "metadata": {},
   "source": [
    "### Distribution of true core positions for reconstructed events"
   ]
  },
  {
   "cell_type": "markdown",
   "metadata": {},
   "source": [
    "### Shower core reconstruction"
   ]
  },
  {
   "cell_type": "markdown",
   "metadata": {},
   "source": [
    "### Shower maximum height reconstruction"
   ]
  }
 ],
 "metadata": {
  "kernelspec": {
   "display_name": "Python 3",
   "language": "python",
   "name": "python3"
  },
  "language_info": {
   "codemirror_mode": {
    "name": "ipython",
    "version": 3
   },
   "file_extension": ".py",
   "mimetype": "text/x-python",
   "name": "python",
   "nbconvert_exporter": "python",
   "pygments_lexer": "ipython3",
   "version": "3.7.4"
  }
 },
 "nbformat": 4,
 "nbformat_minor": 4
}
