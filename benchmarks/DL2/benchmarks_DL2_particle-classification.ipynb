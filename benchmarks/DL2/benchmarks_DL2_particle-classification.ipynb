{
 "cells": [
  {
   "cell_type": "markdown",
   "metadata": {},
   "source": [
    "# Particle classification"
   ]
  },
  {
   "cell_type": "markdown",
   "metadata": {},
   "source": [
    "**WARNING**\n",
    "\n",
    "This is still a work-in-progress, it will evolve with the pipeline comparisons and converge with ctaplot+cta-benchmarks.\n",
    "\n",
    "Part of this notebook is performed by `protopipe.scripts.model_diagnostics`"
   ]
  },
  {
   "cell_type": "markdown",
   "metadata": {},
   "source": [
    "**Author(s):**\n",
    "    \n",
    "- Dr. Michele Peresano (CEA-Saclay/IRFU/DAp/LEPCHE), 2020\n",
    "\n",
    "based on previous work by J. Lefacheur.\n",
    "\n",
    "**Description:**\n",
    "\n",
    "This notebook contains benchmarks for the _protopipe_ pipeline regarding particle classification.\n",
    "Additional information is provided by `protopipe.scripts.model_diagnostics`, which will eventually be merged here.\n",
    "\n",
    "Note that:\n",
    "    - a more general set of benchmarks is being defined in cta-benchmarks/ctaplot,\n",
    "    - follow [this](https://www.overleaf.com/16933164ghbhvjtchknf) document by adding new benchmarks or proposing new ones.\n",
    "\n",
    "**Requirements:**\n",
    "\n",
    "To run this notebook you will need a set of trained data produced on the grid with protopipe.\n",
    "The MC production to be used and the appropriate set of files to use for this notebook can be found [here](https://forge.in2p3.fr/projects/step-by-step-reference-mars-analysis/wiki#The-MC-sample ).\n",
    "\n",
    "The data format required to run the notebook is the current one used by _protopipe_ .\n",
    "Later on it will be the same as in _ctapipe_ + _pyirf_.\n",
    "\n",
    "**Development and testing:**  \n",
    "\n",
    "For the moment this notebook is optimized to work only on files produced from LSTCam + NectarCam telescope configurations.  \n",
    "As with any other part of _protopipe_ and being part of the official repository, this notebook can be further developed by any interested contributor.  \n",
    "The execution of this notebook is not currently automatic, it must be done locally by the user - preferably _before_ pushing a pull-request.  \n",
    "**IMPORTANT:** Please, if you wish to contribute to this notebook, before pushing anything to your branch (better even before opening the PR) clear all the output and remove any local directory paths that you used for testing (leave empty strings).\n",
    "\n",
    "**TODO:**  \n",
    "* update everything...\n",
    "* merge model diagnostics products\n",
    "* add remaining benchmarks from CTA-MARS comparison\n",
    "* same for EventDisplay"
   ]
  },
  {
   "cell_type": "markdown",
   "metadata": {},
   "source": [
    "## Imports"
   ]
  },
  {
   "cell_type": "code",
   "execution_count": null,
   "metadata": {},
   "outputs": [],
   "source": [
    "%matplotlib inline\n",
    "import os\n",
    "import matplotlib.pyplot as plt\n",
    "import pandas as pd\n",
    "import numpy as np\n",
    "from sklearn.metrics import auc, roc_curve"
   ]
  },
  {
   "cell_type": "markdown",
   "metadata": {},
   "source": [
    "## Functions"
   ]
  },
  {
   "cell_type": "code",
   "execution_count": null,
   "metadata": {},
   "outputs": [],
   "source": [
    "def plot_hist(ax, data, nbin, limit, norm=False, yerr=False, hist_kwargs={}, error_kw={}):\n",
    "    \"\"\"Utility function to plot histogram\"\"\"\n",
    "    bin_edges = np.linspace(limit[0], limit[-1], nbin + 1, True)\n",
    "    y, tmp = np.histogram(data, bins=bin_edges)\n",
    "    weights = np.ones_like(y)\n",
    "    if norm is True:\n",
    "        weights = weights / float(np.sum(y))\n",
    "    if yerr is True:\n",
    "        yerr = np.sqrt(y) * weights\n",
    "    else:\n",
    "        yerr = np.zeros(len(y))\n",
    "\n",
    "    centers = 0.5 * (bin_edges[1:] + bin_edges[:-1])\n",
    "    width = bin_edges[1:] - bin_edges[:-1]\n",
    "    ax.bar(centers, y * weights, width=width, yerr=yerr, error_kw=error_kw, **hist_kwargs)\n",
    "\n",
    "    return ax\n",
    "\n",
    "def plot_roc_curve(ax, model_output, y, **kwargs):\n",
    "    \"\"\"Plot ROC curve for a given set of model outputs and labels\"\"\"\n",
    "    fpr, tpr, _ = roc_curve(y_score=model_output, y_true=y)\n",
    "    roc_auc = auc(fpr, tpr)\n",
    "    label = '{} (area={:.2f})'.format(kwargs.pop('label'), roc_auc)  # Remove label\n",
    "    ax.plot(fpr, tpr, label=label, **kwargs)\n",
    "    return ax\n",
    "\n",
    "def plot_evt_roc_curve_variation(ax, data_test, cut_list, model_output_name):\n",
    "    \"\"\"\n",
    "\n",
    "    Parameters\n",
    "    ----------\n",
    "    ax: `~matplotlib.axes.Axes`\n",
    "        Axis\n",
    "    data_test: `~pd.DataFrame`\n",
    "        Test data\n",
    "    cut_list: `list`\n",
    "         Cut list\n",
    "\n",
    "    Returns\n",
    "    -------\n",
    "    ax:  `~matplotlib.axes.Axes`\n",
    "        Axis\n",
    "    \"\"\"\n",
    "    color = 1.\n",
    "    step_color = 1. / (len(cut_list))\n",
    "    for i, cut in enumerate(cut_list):\n",
    "        c = color - (i + 1) * step_color\n",
    "\n",
    "        data = data_test.query(cut)\n",
    "        if len(data) == 0:\n",
    "            continue\n",
    "\n",
    "        opt = dict(color=str(c), lw=2, label='{}'.format(cut.replace('reco_energy', 'E')))\n",
    "        plot_roc_curve(ax, data[model_output_name], data['label'], **opt)\n",
    "    ax.plot([0, 1], [0, 1], color='navy', lw=2, linestyle='--')\n",
    "\n",
    "    return ax"
   ]
  },
  {
   "cell_type": "markdown",
   "metadata": {},
   "source": [
    "# Load data"
   ]
  },
  {
   "cell_type": "markdown",
   "metadata": {},
   "source": [
    "First we check if a _plots_ folder exists already.  \n",
    "If not, we create it."
   ]
  },
  {
   "cell_type": "code",
   "execution_count": null,
   "metadata": {},
   "outputs": [],
   "source": [
    "Path(\"./plots_particle_classification\").mkdir(parents=True, exist_ok=True)"
   ]
  },
  {
   "cell_type": "markdown",
   "metadata": {},
   "source": [
    "Setup of the data loading"
   ]
  },
  {
   "cell_type": "code",
   "execution_count": null,
   "metadata": {},
   "outputs": [],
   "source": [
    "parent = '' # your analysis folder\n",
    "config = 'LaPalma_fullArray_zen20_az0' # analysis descriptor to be used as suffix in the plots\n",
    "\n",
    "is_proba = True\n",
    "\n",
    "model_output = 'score'\n",
    "output_range = [-1, 1]\n",
    "if is_proba is True:\n",
    "    model_output = 'gammaness'\n",
    "    output_range = [0, 1]\n",
    "\n",
    "indir = f'{parent}/data/DL2/'\n",
    "data_gamma = pd.read_hdf(os.path.join(indir, 'dl2_tail_gamma_merged.h5'), \"/reco_events\").query('NTels_reco >= 2')\n",
    "data_electron = pd.read_hdf(os.path.join(indir, 'dl2_tail_electron_merged.h5'), \"/reco_events\").query('NTels_reco >= 2')\n",
    "data_proton = pd.read_hdf(os.path.join(indir, 'dl2_tail_proton_merged.h5'), \"/reco_events\").query('NTels_reco >= 2')\n",
    "\n",
    "data_gamma['label'] = np.ones(len(data_gamma))\n",
    "data_electron['label'] = np.zeros(len(data_electron))\n",
    "data_proton['label'] = np.zeros(len(data_proton))"
   ]
  },
  {
   "cell_type": "markdown",
   "metadata": {},
   "source": [
    "## Benchmarks"
   ]
  },
  {
   "cell_type": "markdown",
   "metadata": {},
   "source": [
    "### Score distribution"
   ]
  },
  {
   "cell_type": "code",
   "execution_count": null,
   "metadata": {},
   "outputs": [],
   "source": [
    "energy_bounds = np.logspace(np.log10(0.012589254), np.log10(125.89254), 4 + 1)\n",
    "ncols = 2\n",
    "n_ax = len(energy_bounds) - 1\n",
    "nrows = int(n_ax / ncols) if n_ax % ncols == 0 else int((n_ax + 1) / ncols)\n",
    "nrows = nrows\n",
    "\n",
    "fig, axes = plt.subplots(nrows=nrows, ncols=ncols, figsize=(5 * ncols, 3 * nrows))\n",
    "if nrows == 1 and ncols == 1:\n",
    "    axes = [axes]\n",
    "else:\n",
    "    axes = axes.flatten()\n",
    "\n",
    "for idx in range(len(energy_bounds) - 1):\n",
    "    ax = axes[idx]\n",
    "\n",
    "    # Data selection\n",
    "    query = 'mc_energy >= {} and mc_energy < {}'.format(energy_bounds[idx], energy_bounds[idx + 1])\n",
    "    gamma = data_gamma.query(query)\n",
    "    proton = data_proton.query(query + ' and offset < {}'.format(1.))\n",
    "    electron = data_electron.query(query + ' and offset < {}'.format(1.))\n",
    "    data_list = [gamma, proton]\n",
    "    \n",
    "    # Graphical stuff\n",
    "    color_list = ['blue', 'red', 'green']\n",
    "    edgecolor_list = ['black', 'black', 'green']\n",
    "    fill_list = [True, True, False]\n",
    "    ls_list = ['-', '-', '--']\n",
    "    lw_list = [2, 2, 2]\n",
    "    alpha_list = [0.2, 0.2, 1]\n",
    "    label_list = ['Gamma', 'Proton', 'Electron']\n",
    "    \n",
    "    opt_list = []\n",
    "    err_list = []\n",
    "    for jdx, data in enumerate(data_list):\n",
    "        opt_list.append(dict(edgecolor=edgecolor_list[jdx], color=color_list[jdx], fill=fill_list[jdx], ls=ls_list[jdx], lw=lw_list[jdx], alpha=alpha_list[jdx], label=label_list[jdx]))\n",
    "        err_list.append(dict(ecolor=color_list[jdx], lw=lw_list[jdx], alpha=alpha_list[jdx], capsize=3, capthick=2,))\n",
    "    \n",
    "    for jdx, data in enumerate(data_list):\n",
    "        ax = plot_hist(\n",
    "            ax=ax, data=data[model_output], nbin=50, limit=output_range,\n",
    "            norm=True, yerr=False,\n",
    "            hist_kwargs=opt_list[jdx],\n",
    "            error_kw=err_list[jdx],\n",
    "        )\n",
    "    ax.set_title('E=[{:.3f},{:.3f}] TeV'.format(energy_bounds[idx], energy_bounds[idx + 1]), fontdict={'weight': 'bold'})\n",
    "    ax.set_xlabel(model_output)\n",
    "    ax.set_ylabel('Arbitrary units')\n",
    "    ax.set_xlim(output_range)\n",
    "    ax.legend(loc='upper left')\n",
    "    ax.grid()\n",
    "    \n",
    "plt.tight_layout()\n",
    "\n",
    "fig.savefig(f\"./plots_particle_classification/score_distribution_{config}.png\")"
   ]
  },
  {
   "cell_type": "markdown",
   "metadata": {},
   "source": [
    "### ROC curve"
   ]
  },
  {
   "cell_type": "code",
   "execution_count": null,
   "metadata": {},
   "outputs": [],
   "source": [
    "data = pd.concat([data_gamma, data_electron, data_proton])\n",
    "\n",
    "plt.figure(figsize=(5,5))\n",
    "\n",
    "ax = plt.gca()\n",
    "\n",
    "cut_list = ['reco_energy >= {:.2f} and reco_energy <= {:.2f}'.format(\n",
    "    energy_bounds[i],\n",
    "    energy_bounds[i+1]\n",
    ") for i in range(len(energy_bounds) - 1)]\n",
    "\n",
    "plot_evt_roc_curve_variation(ax, data, cut_list, model_output)\n",
    "\n",
    "ax.legend(loc='lower right', fontsize='small')\n",
    "ax.set_xlabel('False positive rate')\n",
    "ax.set_ylabel('True positive rate')\n",
    "ax.grid()\n",
    "plt.tight_layout()\n",
    "\n",
    "fig.savefig(f\"./plots_particle_classification/roc_curve_{config}.png\")"
   ]
  },
  {
   "cell_type": "code",
   "execution_count": null,
   "metadata": {},
   "outputs": [],
   "source": []
  }
 ],
 "metadata": {
  "kernelspec": {
   "display_name": "Python 3",
   "language": "python",
   "name": "python3"
  },
  "language_info": {
   "codemirror_mode": {
    "name": "ipython",
    "version": 3
   },
   "file_extension": ".py",
   "mimetype": "text/x-python",
   "name": "python",
   "nbconvert_exporter": "python",
   "pygments_lexer": "ipython3",
   "version": "3.7.7"
  }
 },
 "nbformat": 4,
 "nbformat_minor": 2
}
