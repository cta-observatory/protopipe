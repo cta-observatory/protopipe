{
 "cells": [
  {
   "cell_type": "code",
   "execution_count": null,
   "metadata": {},
   "outputs": [],
   "source": [
    "# Remove input cells at runtime (nbsphinx)\n",
    "import IPython.core.display as d\n",
    "d.display_html('<script>jQuery(function() {if (jQuery(\"body.notebook_app\").length == 0) { jQuery(\".input_area\").toggle(); jQuery(\".prompt\").toggle();}});</script>', raw=True)"
   ]
  },
  {
   "cell_type": "markdown",
   "metadata": {},
   "source": [
    "# Particle classification (MODEL)"
   ]
  },
  {
   "cell_type": "markdown",
   "metadata": {},
   "source": [
    "**Recommended datasample(s):** model file, train and test data produced with ``protopipe-MODEL``\n",
    "\n",
    "**Data level(s):** DL1b (telescope-wise image parameters) + DL2 (shower geometry and estimated energy)\n",
    "\n",
    "**Description:**\n",
    "\n",
    "Test the performance of the trained model **before** use it to estimate the particle type of DL2 events.  \n",
    "In a *protopipe* analysis part of the TRAINING sample is used for *testing* the models to get some preliminary diagnostics (i.e. before launching the much heavier DL2 production).  \n",
    "Note that this notebook shows a camera-wise preliminary diagnostics (since one model is produced per-camera): this means that the model output considered here is the _telescope-wise_ quantity and not the _event-wise_ one which is instead benchmarked at a subsequent step.  \n",
    "Settings and setup of the plots are done using the same configuration file used for training the model.\n",
    "\n",
    "**Requirements and steps to reproduce:**\n",
    "\n",
    "- produce the model with ``protopipe-MODEL``\n",
    "\n",
    "- Execute the notebook ``protopipe-BENCHMARK``,\n",
    "\n",
    "``protopipe-BENCHMARK launch --config_file configs/benchmarks.yaml -n TRAINING/benchmarks_MODELS_classification``\n",
    "\n",
    "To obtain the list of all available parameters add ``--help-notebook``.\n",
    "\n",
    "**Development and testing:**  \n",
    "\n",
    "As with any other part of _protopipe_ and being part of the official repository, this notebook can be further developed by any interested contributor.   \n",
    "The execution of this notebook is not currently automatic, it must be done locally by the user _before_ pushing a pull-request.  \n",
    "Please, strip the output before pushing."
   ]
  },
  {
   "cell_type": "markdown",
   "metadata": {},
   "source": [
    "## Table of contents\n",
    "* [Feature importance](#Feature-importance)\n",
    "* [Feature distributions](#Feature-distributions)\n",
    "* [Boosted Decision Tree Error rate](#Boosted-Decision-Tree-Error-rate)\n",
    "* [Model output](#Model-output)\n",
    "* [Energy-dependent distributions](#Energy-dependent-distributions)\n",
    "* [Energy-dependent ROC curves](#ROC-curve-variation-on-test-sample)\n",
    "* [AUC as a function of reconstructed energy](#AUC-as-a-function-of-reconstructed-energy)\n",
    "* [Precision-Recall](#Precision-Recall)"
   ]
  },
  {
   "cell_type": "markdown",
   "metadata": {
    "nbsphinx": "hidden",
    "tags": [
     "remove_input"
    ]
   },
   "source": [
    "## Imports\n",
    "[back to top](#Table-of-contents)"
   ]
  },
  {
   "cell_type": "code",
   "execution_count": null,
   "metadata": {},
   "outputs": [],
   "source": [
    "import glob\n",
    "import gzip\n",
    "import pickle\n",
    "from pathlib import Path\n",
    "\n",
    "import joblib\n",
    "import matplotlib.patches as mpatches\n",
    "import matplotlib.pyplot as plt\n",
    "import matplotlib.style as style\n",
    "import numpy as np\n",
    "import pandas as pd\n",
    "import yaml\n",
    "from cycler import cycler\n",
    "from matplotlib.pyplot import rc\n",
    "from scipy.optimize import curve_fit\n",
    "from sklearn.metrics import auc, roc_curve\n",
    "\n",
    "plt.rcParams.update({\"figure.max_open_warning\": 0})\n",
    "\n",
    "from protopipe.benchmarks.operations import get_evt_subarray_model_output\n",
    "from protopipe.benchmarks.plot import (\n",
    "    BoostedDecisionTreeDiagnostic,\n",
    "    ClassifierDiagnostic,\n",
    "    plot_distributions,\n",
    "    plot_hist,\n",
    "    plot_roc_curve,\n",
    ")\n",
    "from protopipe.benchmarks.utils import string_to_boolean\n",
    "from protopipe.pipeline.io import load_config, load_obj"
   ]
  },
  {
   "cell_type": "markdown",
   "metadata": {
    "nbsphinx": "hidden",
    "tags": [
     "hide_cell",
     "remove_input"
    ]
   },
   "source": [
    "## Load models\n",
    "[back to top](#Table-of-contents)"
   ]
  },
  {
   "cell_type": "code",
   "execution_count": null,
   "metadata": {
    "tags": [
     "parameters"
    ]
   },
   "outputs": [],
   "source": [
    "analyses_directory = None\n",
    "analysis_name = None\n",
    "analysis_name_2 = None\n",
    "model_configuration_filename = None  # Name of the configuration file of the model\n",
    "output_directory = Path.cwd()  # default output directory for plots\n",
    "use_seaborn = False"
   ]
  },
  {
   "cell_type": "code",
   "execution_count": null,
   "metadata": {},
   "outputs": [],
   "source": [
    "# Handle boolean variables (papermill reads them as strings)\n",
    "use_seaborn = string_to_boolean([use_seaborn])"
   ]
  },
  {
   "cell_type": "code",
   "execution_count": null,
   "metadata": {},
   "outputs": [],
   "source": [
    "# Check that the model configuration file has been defined\n",
    "# either from the CLI of from the benchmarks configuration file (default)\n",
    "if model_configuration_filename is None:\n",
    "    try:\n",
    "        model_configuration_filename = model_configuration_filenames[\"classification\"]\n",
    "    except KeyError:\n",
    "        raise ValueError(\"The name of the configuration file is undefined.\")"
   ]
  },
  {
   "cell_type": "code",
   "execution_count": null,
   "metadata": {},
   "outputs": [],
   "source": [
    "analysis_configuration_path = (\n",
    "    Path(analyses_directory) / analysis_name / Path(\"configs/analysis.yaml\")\n",
    ")\n",
    "model_configuration_path = (\n",
    "    Path(analyses_directory) / analysis_name / \"configs\" / model_configuration_filename\n",
    ")\n",
    "input_directory = (\n",
    "    Path(analyses_directory)\n",
    "    / analysis_name\n",
    "    / Path(\"estimators/gamma_hadron_classifier\")\n",
    ")"
   ]
  },
  {
   "cell_type": "code",
   "execution_count": null,
   "metadata": {},
   "outputs": [],
   "source": [
    "# Load configuration files\n",
    "ana_cfg = load_config(analysis_configuration_path)\n",
    "cfg = load_config(model_configuration_path)\n",
    "\n",
    "# Get info from configs\n",
    "model_type = \"classifier\"\n",
    "method_name = cfg[\"Method\"][\"name\"].split(\".\")[-1]"
   ]
  },
  {
   "cell_type": "code",
   "execution_count": null,
   "metadata": {},
   "outputs": [],
   "source": [
    "cameras = [\n",
    "    model.split(\"/\")[-1].split(\"_\")[1]\n",
    "    for model in glob.glob(f\"{input_directory}/{model_type}*.pkl.gz\")\n",
    "]\n",
    "data = {\n",
    "    camera: dict.fromkeys([\"model\", \"data_scikit\", \"data_train\", \"data_test\"])\n",
    "    for camera in cameras\n",
    "}\n",
    "\n",
    "for camera in cameras:\n",
    "\n",
    "    data[camera][\"data_scikit\"] = load_obj(\n",
    "        glob.glob(\n",
    "            f\"{input_directory}/data_scikit_{model_type}_{method_name}_{camera}.pkl.gz\"\n",
    "        )[0]\n",
    "    )\n",
    "    data[camera][\"data_train\"] = pd.read_pickle(\n",
    "        glob.glob(\n",
    "            f\"{input_directory}/data_train_{model_type}_{method_name}_{camera}.pkl.gz\"\n",
    "        )[0]\n",
    "    )\n",
    "    data[camera][\"data_test\"] = pd.read_pickle(\n",
    "        glob.glob(\n",
    "            f\"{input_directory}/data_test_{model_type}_{method_name}_{camera}.pkl.gz\"\n",
    "        )[0]\n",
    "    )\n",
    "\n",
    "    modelName = f\"{model_type}_{camera}_{method_name}.pkl.gz\"\n",
    "    data[camera][\"model\"] = joblib.load(\n",
    "        glob.glob(f\"{input_directory}/{model_type}_{camera}_{method_name}.pkl.gz\")[0]\n",
    "    )"
   ]
  },
  {
   "cell_type": "markdown",
   "metadata": {
    "nbsphinx": "hidden",
    "tags": [
     "hide_cell",
     "remove_input"
    ]
   },
   "source": [
    "## Settings and setup\n",
    "[back to top](#Table-of-contents)"
   ]
  },
  {
   "cell_type": "code",
   "execution_count": null,
   "metadata": {},
   "outputs": [],
   "source": [
    "try:\n",
    "    if cfg[\"Method\"][\"use_proba\"] is True:\n",
    "        output_model_name = \"gammaness\"\n",
    "    else:\n",
    "        output_model_name = \"score\"\n",
    "except KeyError:\n",
    "    output_model_name = \"gammaness\""
   ]
  },
  {
   "cell_type": "code",
   "execution_count": null,
   "metadata": {},
   "outputs": [],
   "source": [
    "# Energy (both true and reconstructed) [TeV]\n",
    "nbins = cfg[\"Diagnostic\"][\"energy\"][\"nbins\"]\n",
    "\n",
    "energy_edges = np.logspace(\n",
    "    np.log10(cfg[\"Diagnostic\"][\"energy\"][\"min\"]),\n",
    "    np.log10(cfg[\"Diagnostic\"][\"energy\"][\"max\"]),\n",
    "    nbins + 1,\n",
    "    True,\n",
    ")"
   ]
  },
  {
   "cell_type": "code",
   "execution_count": null,
   "metadata": {},
   "outputs": [],
   "source": [
    "# Parameters for energy variation\n",
    "cut_list = [\n",
    "    \"reco_energy >= {:.2f} and reco_energy <= {:.2f}\".format(\n",
    "        energy_edges[i], energy_edges[i + 1]\n",
    "    )\n",
    "    for i in range(len(energy_edges) - 1)\n",
    "]"
   ]
  },
  {
   "cell_type": "code",
   "execution_count": null,
   "metadata": {},
   "outputs": [],
   "source": [
    "features_basic = cfg[\"FeatureList\"][\"Basic\"]\n",
    "features_derived = cfg[\"FeatureList\"][\"Derived\"]\n",
    "features = features_basic + list(features_derived)\n",
    "features = sorted(features)"
   ]
  },
  {
   "cell_type": "code",
   "execution_count": null,
   "metadata": {},
   "outputs": [],
   "source": [
    "diagnostic = dict.fromkeys(cameras)\n",
    "for camera in cameras:\n",
    "    diagnostic[camera] = ClassifierDiagnostic(\n",
    "        model=data[camera][\"model\"],\n",
    "        feature_name_list=features,\n",
    "        target_name=cfg[\"Method\"][\"target_name\"],\n",
    "        data_train=data[camera][\"data_train\"],\n",
    "        data_test=data[camera][\"data_test\"],\n",
    "        model_output_name=output_model_name,\n",
    "        is_output_proba=cfg[\"Method\"][\"use_proba\"],\n",
    "    )"
   ]
  },
  {
   "cell_type": "markdown",
   "metadata": {
    "nbsphinx": "hidden",
    "tags": [
     "hide_cell"
    ]
   },
   "source": [
    "## Benchmarks\n",
    "[back to top](#Table-of-contents)"
   ]
  },
  {
   "cell_type": "code",
   "execution_count": null,
   "metadata": {},
   "outputs": [],
   "source": [
    "# First we check if a _plots_ folder exists already.  \n",
    "# If not, we create it.\n",
    "plots_folder = Path(output_directory) / \"plots\"\n",
    "plots_folder.mkdir(parents=True, exist_ok=True)"
   ]
  },
  {
   "cell_type": "code",
   "execution_count": null,
   "metadata": {},
   "outputs": [],
   "source": [
    "# Plot aesthetics settings\n",
    "\n",
    "style.use(matplotlib_settings[\"style\"])\n",
    "cmap = matplotlib_settings[\"cmap\"]\n",
    "\n",
    "if matplotlib_settings[\"style\"] == \"seaborn-colorblind\":\n",
    "    \n",
    "    colors_order = ['#0072B2', '#D55E00', '#F0E442', '#009E73', '#CC79A7', '#56B4E9']\n",
    "    rc('axes', prop_cycle=cycler(color=colors_order))\n",
    "\n",
    "if use_seaborn:\n",
    "    import seaborn as sns\n",
    "\n",
    "    sns.set_theme(context=seaborn_settings[\"theme\"][\"context\"] if \"context\" in seaborn_settings[\"theme\"] else \"talk\",\n",
    "                  style=seaborn_settings[\"theme\"][\"style\"] if \"style\" in seaborn_settings[\"theme\"] else \"whitegrid\",\n",
    "                  palette=seaborn_settings[\"theme\"][\"palette\"] if \"palette\" in seaborn_settings[\"theme\"] else None,\n",
    "                  font=seaborn_settings[\"theme\"][\"font\"] if \"font\" in seaborn_settings[\"theme\"] else \"Fira Sans\",\n",
    "                  font_scale=seaborn_settings[\"theme\"][\"font_scale\"] if \"font_scale\" in seaborn_settings[\"theme\"] else 1.0,\n",
    "                  color_codes=seaborn_settings[\"theme\"][\"color_codes\"] if \"color_codes\" in seaborn_settings[\"theme\"] else True\n",
    "                  )\n",
    "    \n",
    "    sns.set_style(seaborn_settings[\"theme\"][\"style\"], rc=seaborn_settings[\"rc_style\"])\n",
    "    sns.set_context(seaborn_settings[\"theme\"][\"context\"],\n",
    "                    font_scale=seaborn_settings[\"theme\"][\"font_scale\"] if \"font_scale\" in seaborn_settings[\"theme\"] else 1.0)"
   ]
  },
  {
   "cell_type": "markdown",
   "metadata": {},
   "source": [
    "### Feature importance\n",
    "[back to top](#Table-of-contents)"
   ]
  },
  {
   "cell_type": "code",
   "execution_count": null,
   "metadata": {},
   "outputs": [],
   "source": [
    "for camera in cameras:\n",
    "    plt.figure(figsize=(5, 5))\n",
    "    ax = plt.gca()\n",
    "    ax = diagnostic[camera].plot_feature_importance(\n",
    "        ax,\n",
    "        **{\"alpha\": 0.7, \"edgecolor\": \"black\", \"linewidth\": 2, \"color\": \"darkgreen\"}\n",
    "    )\n",
    "    ax.set_ylabel(\"Feature importance\")\n",
    "    ax.grid()\n",
    "    plt.title(camera)\n",
    "    plt.tight_layout()"
   ]
  },
  {
   "cell_type": "markdown",
   "metadata": {},
   "source": [
    "### Feature distributions\n",
    "[back to top](#Table-of-contents)"
   ]
  },
  {
   "cell_type": "markdown",
   "metadata": {},
   "source": [
    "**Note:** quantities like ``h_max`` and ``impact_dist`` are automatically shown as ``log10`` for these plots for better clarity."
   ]
  },
  {
   "cell_type": "code",
   "execution_count": null,
   "metadata": {},
   "outputs": [],
   "source": [
    "for camera in cameras:\n",
    "    \n",
    "    fig, axes = diagnostic[camera].plot_features(\n",
    "                camera,\n",
    "                data_list=[\n",
    "                    data[camera][\"data_train\"].query(\"label==1\"),\n",
    "                    data[camera][\"data_test\"].query(\"label==1\"),\n",
    "                    data[camera][\"data_train\"].query(\"label==0\"),\n",
    "                    data[camera][\"data_test\"].query(\"label==0\"),\n",
    "                ],\n",
    "                nbin=30,\n",
    "                hist_kwargs_list=[\n",
    "                    {\n",
    "                        \"edgecolor\": \"blue\",\n",
    "                        \"color\": \"blue\",\n",
    "                        \"label\": \"Gamma training sample\",\n",
    "                        \"alpha\": 0.2,\n",
    "                        \"fill\": True,\n",
    "                        \"ls\": \"-\",\n",
    "                        \"lw\": 2,\n",
    "                    },\n",
    "                    {\n",
    "                        \"edgecolor\": \"blue\",\n",
    "                        \"color\": \"blue\",\n",
    "                        \"label\": \"Gamma test sample\",\n",
    "                        \"alpha\": 1,\n",
    "                        \"fill\": False,\n",
    "                        \"ls\": \"--\",\n",
    "                        \"lw\": 2,\n",
    "                    },\n",
    "                    {\n",
    "                        \"edgecolor\": \"red\",\n",
    "                        \"color\": \"red\",\n",
    "                        \"label\": \"Proton training sample\",\n",
    "                        \"alpha\": 0.2,\n",
    "                        \"fill\": True,\n",
    "                        \"ls\": \"-\",\n",
    "                        \"lw\": 2,\n",
    "                    },\n",
    "                    {\n",
    "                        \"edgecolor\": \"red\",\n",
    "                        \"color\": \"red\",\n",
    "                        \"label\": \"Proton test sample\",\n",
    "                        \"alpha\": 1,\n",
    "                        \"fill\": False,\n",
    "                        \"ls\": \"--\",\n",
    "                        \"lw\": 2,\n",
    "                    },\n",
    "                ],\n",
    "                error_kw_list=[\n",
    "                    dict(ecolor=\"blue\", lw=2, capsize=3, capthick=2, alpha=0.2),\n",
    "                    dict(ecolor=\"blue\", lw=2, capsize=3, capthick=2, alpha=1),\n",
    "                    dict(ecolor=\"red\", lw=2, capsize=3, capthick=2, alpha=0.2),\n",
    "                    dict(ecolor=\"red\", lw=2, capsize=3, capthick=2, alpha=1),\n",
    "                ],\n",
    "                ncols=3,\n",
    "            )\n",
    "    plt.show()"
   ]
  },
  {
   "cell_type": "markdown",
   "metadata": {},
   "source": [
    "### Boosted Decision Tree Error rate\n",
    "[back to top](#Table-of-contents)"
   ]
  },
  {
   "cell_type": "code",
   "execution_count": null,
   "metadata": {},
   "outputs": [],
   "source": [
    "if method_name != \"AdaBoostClassifier\":\n",
    "    \n",
    "    print(\"The model is not an AdaBoostClassifier\")\n",
    "\n",
    "else:\n",
    "    \n",
    "    for camera in cameras:\n",
    "        plt.figure(figsize=(5, 5))\n",
    "        ax = plt.gca()\n",
    "        opt = {\"color\": \"darkgreen\", \"ls\": \"-\", \"lw\": 2}\n",
    "        BoostedDecisionTreeDiagnostic.plot_error_rate(\n",
    "            ax, model, data_scikit, **opt\n",
    "        )\n",
    "        plt.title(camera)\n",
    "        plt.tight_layout()\n",
    "\n",
    "        plt.figure(figsize=(5, 5))\n",
    "        ax = plt.gca()\n",
    "        BoostedDecisionTreeDiagnostic.plot_tree_error_rate(ax, model, **opt)\n",
    "        plt.title(camera)\n",
    "        plt.show()"
   ]
  },
  {
   "cell_type": "markdown",
   "metadata": {},
   "source": [
    "### Model output\n",
    "[back to top](#Table-of-contents)"
   ]
  },
  {
   "cell_type": "code",
   "execution_count": null,
   "metadata": {},
   "outputs": [],
   "source": [
    "for camera in cameras:\n",
    "\n",
    "    fig, ax = diagnostic[camera].plot_image_model_output_distribution(camera, nbin=50)\n",
    "    ax[0].set_xlim([0, 1])\n",
    "    ax[0].set_ylim([0, 1])\n",
    "    fig.tight_layout()\n",
    "\n",
    "    plt.figure(figsize=(5, 5))\n",
    "    ax = plt.gca()\n",
    "    plot_roc_curve(\n",
    "        ax,\n",
    "        diagnostic[camera].data_train[diagnostic[camera].model_output_name],\n",
    "        diagnostic[camera].data_train[cfg[\"Method\"][\"target_name\"]],\n",
    "        **dict(color=\"darkgreen\", lw=2, label=\"Training sample\")\n",
    "    )\n",
    "    plot_roc_curve(\n",
    "        ax,\n",
    "        data[camera][\"data_test\"][diagnostic[camera].model_output_name],\n",
    "        diagnostic[camera].data_test[cfg[\"Method\"][\"target_name\"]],\n",
    "        **dict(color=\"darkorange\", lw=2, label=\"Test sample\")\n",
    "    )\n",
    "    ax.set_xlabel(\"False Positive Rate\")\n",
    "    ax.set_ylabel(\"True Positive Rate\")\n",
    "    ax.plot([0, 1], [0, 1], color=\"navy\", lw=2, linestyle=\"--\")\n",
    "    ax.legend(loc=\"lower right\")\n",
    "    plt.title(camera)\n",
    "    plt.show()"
   ]
  },
  {
   "cell_type": "markdown",
   "metadata": {},
   "source": [
    "## Energy-dependent distributions\n",
    "[back to top](#Table-of-contents)"
   ]
  },
  {
   "cell_type": "code",
   "execution_count": null,
   "metadata": {},
   "outputs": [],
   "source": [
    "hist_kwargs_list = [\n",
    "    {\n",
    "        \"edgecolor\": \"blue\",\n",
    "        \"color\": \"blue\",\n",
    "        \"label\": \"Gamma training sample\",\n",
    "        \"alpha\": 0.2,\n",
    "        \"fill\": True,\n",
    "        \"ls\": \"-\",\n",
    "        \"lw\": 2,\n",
    "    },\n",
    "    {\n",
    "        \"edgecolor\": \"blue\",\n",
    "        \"color\": \"blue\",\n",
    "        \"label\": \"Gamma test sample\",\n",
    "        \"alpha\": 1,\n",
    "        \"fill\": False,\n",
    "        \"ls\": \"--\",\n",
    "        \"lw\": 2,\n",
    "    },\n",
    "    {\n",
    "        \"edgecolor\": \"red\",\n",
    "        \"color\": \"red\",\n",
    "        \"label\": \"Proton training sample\",\n",
    "        \"alpha\": 0.2,\n",
    "        \"fill\": True,\n",
    "        \"ls\": \"-\",\n",
    "        \"lw\": 2,\n",
    "    },\n",
    "    {\n",
    "        \"edgecolor\": \"red\",\n",
    "        \"color\": \"red\",\n",
    "        \"label\": \"Proton test sample\",\n",
    "        \"alpha\": 1,\n",
    "        \"fill\": False,\n",
    "        \"ls\": \"--\",\n",
    "        \"lw\": 2,\n",
    "    },\n",
    "]\n",
    "\n",
    "error_kw_list = [\n",
    "    dict(ecolor=\"blue\", lw=2, capsize=3, capthick=2, alpha=0.2),\n",
    "    dict(ecolor=\"blue\", lw=2, capsize=3, capthick=2, alpha=1),\n",
    "    dict(ecolor=\"red\", lw=2, capsize=3, capthick=2, alpha=0.2),\n",
    "    dict(ecolor=\"red\", lw=2, capsize=3, capthick=2, alpha=1),\n",
    "]\n",
    "\n",
    "n_feature = len(cut_list)\n",
    "ncols = 2\n",
    "nrows = (\n",
    "    int(n_feature / ncols) if n_feature % ncols == 0 else int((n_feature + 1) / ncols)\n",
    ")\n",
    "\n",
    "for camera in cameras:\n",
    "\n",
    "    fig, axes = plt.subplots(nrows=nrows, ncols=ncols, figsize=(5 * ncols, 5 * nrows))\n",
    "    plt.subplots_adjust(hspace=0.5, wspace=0.5)\n",
    "    if nrows == 1 and ncols == 1:\n",
    "        axes = [axes]\n",
    "    else:\n",
    "        axes = axes.flatten()\n",
    "\n",
    "    data_list = [\n",
    "        data[camera][\"data_train\"].query(\"label==1\"),\n",
    "        data[camera][\"data_test\"].query(\"label==1\"),\n",
    "        data[camera][\"data_train\"].query(\"label==0\"),\n",
    "        data[camera][\"data_test\"].query(\"label==0\"),\n",
    "    ]\n",
    "\n",
    "    for i, colname in enumerate(cut_list):\n",
    "        ax = axes[i]\n",
    "\n",
    "        # Range for binning\n",
    "        the_range = [0, 1]\n",
    "\n",
    "        for j, d in enumerate(data_list):\n",
    "            if len(d) == 0:\n",
    "                continue\n",
    "\n",
    "            ax = plot_hist(\n",
    "                ax=ax,\n",
    "                data=d.query(cut_list[i])[output_model_name],\n",
    "                nbin=30,\n",
    "                limit=the_range,\n",
    "                norm=True,\n",
    "                yerr=True,\n",
    "                hist_kwargs=hist_kwargs_list[j],\n",
    "                error_kw=error_kw_list[j],\n",
    "            )\n",
    "\n",
    "        ax.set_xlim(the_range)\n",
    "        ax.set_ylim(0, 1.2)\n",
    "        ax.set_xlabel(output_model_name)\n",
    "        ax.set_ylabel(\"Arbitrary units\")\n",
    "        # ax.legend(loc=\"best\", fontsize=\"small\")\n",
    "        ax.legend(loc=\"upper center\")\n",
    "        ax.set_title(\n",
    "            f\"{energy_edges[i]:.2f} TeV < E_reco < {energy_edges[i+1]:.2f} TeV\"\n",
    "        )\n",
    "        ax.grid()\n",
    "\n",
    "    plt.suptitle(camera)"
   ]
  },
  {
   "cell_type": "markdown",
   "metadata": {},
   "source": [
    "## ROC curve variation on test sample\n",
    "[back to top](#Table-of-contents)"
   ]
  },
  {
   "cell_type": "code",
   "execution_count": null,
   "metadata": {},
   "outputs": [],
   "source": [
    "for camera in cameras:\n",
    "\n",
    "    plt.figure(figsize=(6, 6))\n",
    "    ax = plt.gca()\n",
    "\n",
    "    color = 1.0\n",
    "    step_color = 1.0 / (len(cut_list))\n",
    "    for i, cut in enumerate(cut_list):\n",
    "        c = color - (i + 1) * step_color\n",
    "\n",
    "        test_data = data[camera][\"data_test\"].query(cut)\n",
    "        if len(test_data) == 0:\n",
    "            continue\n",
    "\n",
    "        opt = dict(\n",
    "            color=str(c),\n",
    "            lw=2,\n",
    "            # label=\"{}\".format(cut.replace(\"reco_energy\", \"E\")),\n",
    "            label=f\"{energy_edges[i]:.2f} TeV < E_reco < {energy_edges[i+1]:.2f} TeV\",\n",
    "        )\n",
    "        plot_roc_curve(\n",
    "            ax,\n",
    "            test_data[output_model_name],\n",
    "            test_data[cfg[\"Method\"][\"target_name\"]],\n",
    "            **opt,\n",
    "        )\n",
    "    ax.plot([0, 1], [0, 1], color=\"navy\", lw=2, linestyle=\"--\")\n",
    "    ax.set_title(camera)\n",
    "    ax.set_xlabel(\"False Positive Rate\")\n",
    "    ax.set_ylabel(\"True Positive Rate\")\n",
    "    ax.legend(loc=\"lower right\")\n",
    "    plt.tight_layout()"
   ]
  },
  {
   "cell_type": "markdown",
   "metadata": {},
   "source": [
    "## AUC as a function of reconstructed energy\n",
    "[back to top](#Table-of-contents)"
   ]
  },
  {
   "cell_type": "code",
   "execution_count": null,
   "metadata": {},
   "outputs": [],
   "source": [
    "finer_energy_edges = np.logspace(\n",
    "    np.log10(0.02),\n",
    "    np.log10(200),\n",
    "    21,\n",
    "    True,\n",
    ")\n",
    "\n",
    "cut_list_with_finer_energy_edges = [\n",
    "    \"reco_energy >= {:.2f} and reco_energy <= {:.2f}\".format(\n",
    "        finer_energy_edges[i], finer_energy_edges[i + 1]\n",
    "    )\n",
    "    for i in range(len(finer_energy_edges) - 1)\n",
    "]\n",
    "\n",
    "for camera in cameras:\n",
    "    plt.figure(figsize=(8, 8))\n",
    "    plt.title(camera)\n",
    "\n",
    "    aucs = []\n",
    "    reco_energy = []\n",
    "\n",
    "    for i, cut in enumerate(cut_list_with_finer_energy_edges):\n",
    "\n",
    "        selected_images = data[camera][\"data_test\"].query(cut)\n",
    "        if len(selected_images) == 0:\n",
    "            continue\n",
    "\n",
    "        fpr, tpr, _ = roc_curve(\n",
    "            y_score=selected_images[output_model_name],\n",
    "            y_true=selected_images[cfg[\"Method\"][\"target_name\"]],\n",
    "        )\n",
    "        roc_auc = auc(fpr, tpr)\n",
    "\n",
    "        aucs.append(roc_auc)\n",
    "        reco_energy.append(0.5 * (finer_energy_edges[i] + finer_energy_edges[i + 1]))\n",
    "\n",
    "    plt.plot(reco_energy, aucs, \"bo\")\n",
    "    plt.hlines(\n",
    "        1,\n",
    "        xmin=plt.gca().get_xlim()[0],\n",
    "        xmax=plt.gca().get_xlim()[1],\n",
    "        linestyles=\"dashed\",\n",
    "        color=\"green\",\n",
    "    )\n",
    "    plt.ylim(0, 1.2)\n",
    "    plt.xscale(\"log\")\n",
    "    plt.xlabel(\"log10(Reconstructed energy [TeV])\")\n",
    "    plt.ylabel(\"AUC\")\n",
    "    plt.grid()"
   ]
  },
  {
   "cell_type": "markdown",
   "metadata": {},
   "source": [
    "## Precision-Recall\n",
    "[back to top](#Table-of-contents)"
   ]
  },
  {
   "cell_type": "code",
   "execution_count": null,
   "metadata": {},
   "outputs": [],
   "source": [
    "from sklearn.metrics import PrecisionRecallDisplay\n",
    "\n",
    "try:\n",
    "    if cfg[\"Method\"][\"use_proba\"] is True:\n",
    "        response_method = \"predict_proba\"\n",
    "    else:\n",
    "        response_method = \"decision_function\"\n",
    "except KeyError:\n",
    "    response_method = \"predict_proba\"\n",
    "\n",
    "for camera in cameras:\n",
    "\n",
    "    plt.figure(figsize=(7, 5))\n",
    "    plt.grid()\n",
    "    plt.title(camera)\n",
    "\n",
    "    for i, cut in enumerate(cut_list):\n",
    "        c = color - (i + 1) * step_color\n",
    "\n",
    "        selected_test_data = diagnostic[camera].data_test.query(cut)\n",
    "\n",
    "        # skip the energy bin if it's not there\n",
    "        if len(selected_test_data) == 0:\n",
    "            continue\n",
    "\n",
    "        PrecisionRecallDisplay.from_estimator(\n",
    "            estimator=diagnostic[camera].model,\n",
    "            x=selected_test_data[features].to_numpy(),\n",
    "            y=selected_test_data[cfg[\"Method\"][\"target_name\"]],\n",
    "            response_method=response_method,\n",
    "            ax=plt.gca(),\n",
    "            name=f\"{energy_edges[i]:.2f} TeV < E_reco < {energy_edges[i+1]:.2f} TeV\",\n",
    "            color=f\"C{i}\",\n",
    "        )\n",
    "\n",
    "    plt.ylim(0, 1)"
   ]
  }
 ],
 "metadata": {
  "kernelspec": {
   "display_name": "Python (Protopipe-CTADIRAC)",
   "language": "python",
   "name": "protopipe-ctadirac"
  },
  "language_info": {
   "codemirror_mode": {
    "name": "ipython",
    "version": 3
   },
   "file_extension": ".py",
   "mimetype": "text/x-python",
   "name": "python",
   "nbconvert_exporter": "python",
   "pygments_lexer": "ipython3",
   "version": "3.8.12"
  }
 },
 "nbformat": 4,
 "nbformat_minor": 4
}
